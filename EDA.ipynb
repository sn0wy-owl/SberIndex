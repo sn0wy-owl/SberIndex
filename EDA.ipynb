{
 "cells": [
  {
   "cell_type": "markdown",
   "id": "03968b4d",
   "metadata": {
    "vscode": {
     "languageId": "plaintext"
    }
   },
   "source": [
    "## Импорт библиотек"
   ]
  },
  {
   "cell_type": "code",
   "execution_count": 1,
   "id": "6bbd2e87",
   "metadata": {},
   "outputs": [],
   "source": [
    "import pandas as pd\n",
    "import plotly.express as px\n",
    "\n",
    "import warnings\n",
    "warnings.filterwarnings('ignore')"
   ]
  },
  {
   "cell_type": "markdown",
   "id": "a1a8673e",
   "metadata": {},
   "source": [
    "#### Дополним данные наименованиями МО и данными о площади областей, плотности населения"
   ]
  },
  {
   "cell_type": "code",
   "execution_count": 2,
   "id": "06dd220f",
   "metadata": {},
   "outputs": [
    {
     "data": {
      "application/vnd.microsoft.datawrangler.viewer.v0+json": {
       "columns": [
        {
         "name": "index",
         "rawType": "int64",
         "type": "integer"
        },
        {
         "name": "territory_id",
         "rawType": "int64",
         "type": "integer"
        },
        {
         "name": "oktmo",
         "rawType": "object",
         "type": "string"
        },
        {
         "name": "district_name_short",
         "rawType": "object",
         "type": "string"
        },
        {
         "name": "district_status",
         "rawType": "object",
         "type": "unknown"
        },
        {
         "name": "district_type",
         "rawType": "object",
         "type": "string"
        },
        {
         "name": "year_from",
         "rawType": "int64",
         "type": "integer"
        },
        {
         "name": "year_to",
         "rawType": "int64",
         "type": "integer"
        },
        {
         "name": "region_name",
         "rawType": "object",
         "type": "string"
        },
        {
         "name": "federal_districts_name",
         "rawType": "object",
         "type": "string"
        },
        {
         "name": "federal_districts_name_short",
         "rawType": "object",
         "type": "string"
        }
       ],
       "ref": "d11617f9-c425-4b08-9d3d-0a418495455c",
       "rows": [
        [
         "0",
         "1",
         "79-701-000-000",
         "Майкоп",
         "административный центр",
         "город",
         "2018",
         "9999",
         "Республика Адыгея",
         "Южный федеральный округ",
         "ЮФО"
        ],
        [
         "1",
         "2",
         "79-703-000-000",
         "Адыгейск",
         null,
         "город",
         "2018",
         "9999",
         "Республика Адыгея",
         "Южный федеральный округ",
         "ЮФО"
        ],
        [
         "2",
         "3",
         "79-605-000-000",
         "Гиагинский",
         null,
         "станица",
         "2018",
         "9999",
         "Республика Адыгея",
         "Южный федеральный округ",
         "ЮФО"
        ],
        [
         "3",
         "4",
         "79-615-000-000",
         "Кошехабльский",
         null,
         "аул",
         "2018",
         "9999",
         "Республика Адыгея",
         "Южный федеральный округ",
         "ЮФО"
        ],
        [
         "4",
         "5",
         "79-618-000-000",
         "Красногвардейский",
         null,
         "село",
         "2018",
         "9999",
         "Республика Адыгея",
         "Южный федеральный округ",
         "ЮФО"
        ]
       ],
       "shape": {
        "columns": 10,
        "rows": 5
       }
      },
      "text/html": [
       "<div>\n",
       "<style scoped>\n",
       "    .dataframe tbody tr th:only-of-type {\n",
       "        vertical-align: middle;\n",
       "    }\n",
       "\n",
       "    .dataframe tbody tr th {\n",
       "        vertical-align: top;\n",
       "    }\n",
       "\n",
       "    .dataframe thead th {\n",
       "        text-align: right;\n",
       "    }\n",
       "</style>\n",
       "<table border=\"1\" class=\"dataframe\">\n",
       "  <thead>\n",
       "    <tr style=\"text-align: right;\">\n",
       "      <th></th>\n",
       "      <th>territory_id</th>\n",
       "      <th>oktmo</th>\n",
       "      <th>district_name_short</th>\n",
       "      <th>district_status</th>\n",
       "      <th>district_type</th>\n",
       "      <th>year_from</th>\n",
       "      <th>year_to</th>\n",
       "      <th>region_name</th>\n",
       "      <th>federal_districts_name</th>\n",
       "      <th>federal_districts_name_short</th>\n",
       "    </tr>\n",
       "  </thead>\n",
       "  <tbody>\n",
       "    <tr>\n",
       "      <th>0</th>\n",
       "      <td>1</td>\n",
       "      <td>79-701-000-000</td>\n",
       "      <td>Майкоп</td>\n",
       "      <td>административный центр</td>\n",
       "      <td>город</td>\n",
       "      <td>2018</td>\n",
       "      <td>9999</td>\n",
       "      <td>Республика Адыгея</td>\n",
       "      <td>Южный федеральный округ</td>\n",
       "      <td>ЮФО</td>\n",
       "    </tr>\n",
       "    <tr>\n",
       "      <th>1</th>\n",
       "      <td>2</td>\n",
       "      <td>79-703-000-000</td>\n",
       "      <td>Адыгейск</td>\n",
       "      <td>NaN</td>\n",
       "      <td>город</td>\n",
       "      <td>2018</td>\n",
       "      <td>9999</td>\n",
       "      <td>Республика Адыгея</td>\n",
       "      <td>Южный федеральный округ</td>\n",
       "      <td>ЮФО</td>\n",
       "    </tr>\n",
       "    <tr>\n",
       "      <th>2</th>\n",
       "      <td>3</td>\n",
       "      <td>79-605-000-000</td>\n",
       "      <td>Гиагинский</td>\n",
       "      <td>NaN</td>\n",
       "      <td>станица</td>\n",
       "      <td>2018</td>\n",
       "      <td>9999</td>\n",
       "      <td>Республика Адыгея</td>\n",
       "      <td>Южный федеральный округ</td>\n",
       "      <td>ЮФО</td>\n",
       "    </tr>\n",
       "    <tr>\n",
       "      <th>3</th>\n",
       "      <td>4</td>\n",
       "      <td>79-615-000-000</td>\n",
       "      <td>Кошехабльский</td>\n",
       "      <td>NaN</td>\n",
       "      <td>аул</td>\n",
       "      <td>2018</td>\n",
       "      <td>9999</td>\n",
       "      <td>Республика Адыгея</td>\n",
       "      <td>Южный федеральный округ</td>\n",
       "      <td>ЮФО</td>\n",
       "    </tr>\n",
       "    <tr>\n",
       "      <th>4</th>\n",
       "      <td>5</td>\n",
       "      <td>79-618-000-000</td>\n",
       "      <td>Красногвардейский</td>\n",
       "      <td>NaN</td>\n",
       "      <td>село</td>\n",
       "      <td>2018</td>\n",
       "      <td>9999</td>\n",
       "      <td>Республика Адыгея</td>\n",
       "      <td>Южный федеральный округ</td>\n",
       "      <td>ЮФО</td>\n",
       "    </tr>\n",
       "  </tbody>\n",
       "</table>\n",
       "</div>"
      ],
      "text/plain": [
       "   territory_id           oktmo district_name_short         district_status  \\\n",
       "0             1  79-701-000-000              Майкоп  административный центр   \n",
       "1             2  79-703-000-000            Адыгейск                     NaN   \n",
       "2             3  79-605-000-000          Гиагинский                     NaN   \n",
       "3             4  79-615-000-000       Кошехабльский                     NaN   \n",
       "4             5  79-618-000-000   Красногвардейский                     NaN   \n",
       "\n",
       "  district_type  year_from  year_to        region_name  \\\n",
       "0         город       2018     9999  Республика Адыгея   \n",
       "1         город       2018     9999  Республика Адыгея   \n",
       "2       станица       2018     9999  Республика Адыгея   \n",
       "3           аул       2018     9999  Республика Адыгея   \n",
       "4          село       2018     9999  Республика Адыгея   \n",
       "\n",
       "    federal_districts_name federal_districts_name_short  \n",
       "0  Южный федеральный округ                          ЮФО  \n",
       "1  Южный федеральный округ                          ЮФО  \n",
       "2  Южный федеральный округ                          ЮФО  \n",
       "3  Южный федеральный округ                          ЮФО  \n",
       "4  Южный федеральный округ                          ЮФО  "
      ]
     },
     "execution_count": 2,
     "metadata": {},
     "output_type": "execute_result"
    }
   ],
   "source": [
    "# district_name\n",
    "district_name = pd.read_excel('data/clear/district_name.xlsx')\n",
    "district_name.head()"
   ]
  },
  {
   "cell_type": "code",
   "execution_count": 4,
   "id": "73ba3790",
   "metadata": {},
   "outputs": [
    {
     "data": {
      "application/vnd.microsoft.datawrangler.viewer.v0+json": {
       "columns": [
        {
         "name": "index",
         "rawType": "int64",
         "type": "integer"
        },
        {
         "name": "region_name",
         "rawType": "object",
         "type": "string"
        },
        {
         "name": "region_square",
         "rawType": "float64",
         "type": "float"
        },
        {
         "name": "region_popularity",
         "rawType": "float64",
         "type": "float"
        },
        {
         "name": "region_density",
         "rawType": "float64",
         "type": "float"
        },
        {
         "name": "region_unique_districts",
         "rawType": "int64",
         "type": "integer"
        }
       ],
       "ref": "08eeaaef-99c2-4f5a-aa46-bb9ba1430e85",
       "rows": [
        [
         "0",
         "Белгородская область",
         "27.1",
         "1531.9",
         "56.5",
         "212"
        ],
        [
         "1",
         "Брянская область",
         "34.9",
         "1168.8",
         "33.5",
         "236"
        ],
        [
         "2",
         "Владимирская область",
         "29.1",
         "1323.7",
         "45.5",
         "127"
        ],
        [
         "3",
         "Воронежская область",
         "52.2",
         "2287.7",
         "43.8",
         "478"
        ],
        [
         "4",
         "Ивановская область",
         "21.4",
         "976.9",
         "45.6",
         "143"
        ]
       ],
       "shape": {
        "columns": 5,
        "rows": 5
       }
      },
      "text/html": [
       "<div>\n",
       "<style scoped>\n",
       "    .dataframe tbody tr th:only-of-type {\n",
       "        vertical-align: middle;\n",
       "    }\n",
       "\n",
       "    .dataframe tbody tr th {\n",
       "        vertical-align: top;\n",
       "    }\n",
       "\n",
       "    .dataframe thead th {\n",
       "        text-align: right;\n",
       "    }\n",
       "</style>\n",
       "<table border=\"1\" class=\"dataframe\">\n",
       "  <thead>\n",
       "    <tr style=\"text-align: right;\">\n",
       "      <th></th>\n",
       "      <th>region_name</th>\n",
       "      <th>region_square</th>\n",
       "      <th>region_popularity</th>\n",
       "      <th>region_density</th>\n",
       "      <th>region_unique_districts</th>\n",
       "    </tr>\n",
       "  </thead>\n",
       "  <tbody>\n",
       "    <tr>\n",
       "      <th>0</th>\n",
       "      <td>Белгородская область</td>\n",
       "      <td>27.1</td>\n",
       "      <td>1531.9</td>\n",
       "      <td>56.5</td>\n",
       "      <td>212</td>\n",
       "    </tr>\n",
       "    <tr>\n",
       "      <th>1</th>\n",
       "      <td>Брянская область</td>\n",
       "      <td>34.9</td>\n",
       "      <td>1168.8</td>\n",
       "      <td>33.5</td>\n",
       "      <td>236</td>\n",
       "    </tr>\n",
       "    <tr>\n",
       "      <th>2</th>\n",
       "      <td>Владимирская область</td>\n",
       "      <td>29.1</td>\n",
       "      <td>1323.7</td>\n",
       "      <td>45.5</td>\n",
       "      <td>127</td>\n",
       "    </tr>\n",
       "    <tr>\n",
       "      <th>3</th>\n",
       "      <td>Воронежская область</td>\n",
       "      <td>52.2</td>\n",
       "      <td>2287.7</td>\n",
       "      <td>43.8</td>\n",
       "      <td>478</td>\n",
       "    </tr>\n",
       "    <tr>\n",
       "      <th>4</th>\n",
       "      <td>Ивановская область</td>\n",
       "      <td>21.4</td>\n",
       "      <td>976.9</td>\n",
       "      <td>45.6</td>\n",
       "      <td>143</td>\n",
       "    </tr>\n",
       "  </tbody>\n",
       "</table>\n",
       "</div>"
      ],
      "text/plain": [
       "            region_name  region_square  region_popularity  region_density  \\\n",
       "0  Белгородская область           27.1             1531.9            56.5   \n",
       "1      Брянская область           34.9             1168.8            33.5   \n",
       "2  Владимирская область           29.1             1323.7            45.5   \n",
       "3   Воронежская область           52.2             2287.7            43.8   \n",
       "4    Ивановская область           21.4              976.9            45.6   \n",
       "\n",
       "   region_unique_districts  \n",
       "0                      212  \n",
       "1                      236  \n",
       "2                      127  \n",
       "3                      478  \n",
       "4                      143  "
      ]
     },
     "execution_count": 4,
     "metadata": {},
     "output_type": "execute_result"
    }
   ],
   "source": [
    "# region_square\n",
    "region_square = pd.read_excel('data/clear/region_square.xlsx')\n",
    "region_square.head()"
   ]
  },
  {
   "cell_type": "code",
   "execution_count": 7,
   "id": "4d97987a",
   "metadata": {},
   "outputs": [
    {
     "data": {
      "application/vnd.microsoft.datawrangler.viewer.v0+json": {
       "columns": [
        {
         "name": "index",
         "rawType": "int64",
         "type": "integer"
        },
        {
         "name": "region_id",
         "rawType": "int64",
         "type": "integer"
        },
        {
         "name": "region_name",
         "rawType": "object",
         "type": "string"
        },
        {
         "name": "federal_districts_name",
         "rawType": "object",
         "type": "string"
        },
        {
         "name": "federal_districts_name_short",
         "rawType": "object",
         "type": "string"
        }
       ],
       "ref": "139a5d0b-5125-4e2d-b2c5-9e74649bcb0c",
       "rows": [
        [
         "0",
         "0",
         "Белгородская область",
         "Центральный федеральный округ",
         "ЦФО"
        ],
        [
         "1",
         "1",
         "Брянская область",
         "Центральный федеральный округ",
         "ЦФО"
        ],
        [
         "2",
         "2",
         "Владимирская область",
         "Центральный федеральный округ",
         "ЦФО"
        ],
        [
         "3",
         "3",
         "Воронежская область",
         "Центральный федеральный округ",
         "ЦФО"
        ],
        [
         "4",
         "4",
         "Ивановская область",
         "Центральный федеральный округ",
         "ЦФО"
        ]
       ],
       "shape": {
        "columns": 4,
        "rows": 5
       }
      },
      "text/html": [
       "<div>\n",
       "<style scoped>\n",
       "    .dataframe tbody tr th:only-of-type {\n",
       "        vertical-align: middle;\n",
       "    }\n",
       "\n",
       "    .dataframe tbody tr th {\n",
       "        vertical-align: top;\n",
       "    }\n",
       "\n",
       "    .dataframe thead th {\n",
       "        text-align: right;\n",
       "    }\n",
       "</style>\n",
       "<table border=\"1\" class=\"dataframe\">\n",
       "  <thead>\n",
       "    <tr style=\"text-align: right;\">\n",
       "      <th></th>\n",
       "      <th>region_id</th>\n",
       "      <th>region_name</th>\n",
       "      <th>federal_districts_name</th>\n",
       "      <th>federal_districts_name_short</th>\n",
       "    </tr>\n",
       "  </thead>\n",
       "  <tbody>\n",
       "    <tr>\n",
       "      <th>0</th>\n",
       "      <td>0</td>\n",
       "      <td>Белгородская область</td>\n",
       "      <td>Центральный федеральный округ</td>\n",
       "      <td>ЦФО</td>\n",
       "    </tr>\n",
       "    <tr>\n",
       "      <th>1</th>\n",
       "      <td>1</td>\n",
       "      <td>Брянская область</td>\n",
       "      <td>Центральный федеральный округ</td>\n",
       "      <td>ЦФО</td>\n",
       "    </tr>\n",
       "    <tr>\n",
       "      <th>2</th>\n",
       "      <td>2</td>\n",
       "      <td>Владимирская область</td>\n",
       "      <td>Центральный федеральный округ</td>\n",
       "      <td>ЦФО</td>\n",
       "    </tr>\n",
       "    <tr>\n",
       "      <th>3</th>\n",
       "      <td>3</td>\n",
       "      <td>Воронежская область</td>\n",
       "      <td>Центральный федеральный округ</td>\n",
       "      <td>ЦФО</td>\n",
       "    </tr>\n",
       "    <tr>\n",
       "      <th>4</th>\n",
       "      <td>4</td>\n",
       "      <td>Ивановская область</td>\n",
       "      <td>Центральный федеральный округ</td>\n",
       "      <td>ЦФО</td>\n",
       "    </tr>\n",
       "  </tbody>\n",
       "</table>\n",
       "</div>"
      ],
      "text/plain": [
       "   region_id           region_name         federal_districts_name  \\\n",
       "0          0  Белгородская область  Центральный федеральный округ   \n",
       "1          1      Брянская область  Центральный федеральный округ   \n",
       "2          2  Владимирская область  Центральный федеральный округ   \n",
       "3          3   Воронежская область  Центральный федеральный округ   \n",
       "4          4    Ивановская область  Центральный федеральный округ   \n",
       "\n",
       "  federal_districts_name_short  \n",
       "0                          ЦФО  \n",
       "1                          ЦФО  \n",
       "2                          ЦФО  \n",
       "3                          ЦФО  \n",
       "4                          ЦФО  "
      ]
     },
     "execution_count": 7,
     "metadata": {},
     "output_type": "execute_result"
    }
   ],
   "source": [
    "# Выделили таблицу для сопоставления id региона и названием\n",
    "region_list = region_square['region_name'].reset_index()\n",
    "region_list.columns = ['region_id', 'region_name']\n",
    "\n",
    "# Добавили данные по названию федеральных округов\n",
    "region_list = (region_list\n",
    "               .merge(district_name[['region_name', 'federal_districts_name', 'federal_districts_name_short']].drop_duplicates(), how='left', on='region_name'))\n",
    "\n",
    "region_list.head()"
   ]
  },
  {
   "cell_type": "code",
   "execution_count": 8,
   "id": "e6676f91",
   "metadata": {},
   "outputs": [],
   "source": [
    "region_list.to_csv('data/to_db/region_list.csv')"
   ]
  },
  {
   "cell_type": "code",
   "execution_count": 11,
   "id": "f78a540f",
   "metadata": {},
   "outputs": [],
   "source": [
    "# Заменили названия регионов на id региона\n",
    "region_info = (region_square\n",
    "               .merge(region_list[['region_id', 'region_name']], how='left', on='region_name')\n",
    "               [['region_id', 'region_square', 'region_density', 'region_unique_districts']])"
   ]
  },
  {
   "cell_type": "code",
   "execution_count": 12,
   "id": "a3bacd69",
   "metadata": {},
   "outputs": [],
   "source": [
    "# Нормировали значения площади\n",
    "region_info['region_square'] = region_info['region_square'] * 1000"
   ]
  },
  {
   "cell_type": "code",
   "execution_count": 13,
   "id": "baed396c",
   "metadata": {},
   "outputs": [],
   "source": [
    "region_info.to_csv('data/to_db/region_info.csv')"
   ]
  },
  {
   "attachments": {
    "image.png": {
     "image/png": "[encoded data removed]"
    }
   },
   "cell_type": "markdown",
   "id": "88b63387",
   "metadata": {},
   "source": [
    "#### Население\n",
    "\n",
    "![image.png](attachment:image.png)"
   ]
  },
  {
   "cell_type": "code",
   "execution_count": 28,
   "id": "91617758",
   "metadata": {},
   "outputs": [
    {
     "data": {
      "application/vnd.microsoft.datawrangler.viewer.v0+json": {
       "columns": [
        {
         "name": "index",
         "rawType": "int64",
         "type": "integer"
        },
        {
         "name": "territory_id",
         "rawType": "int64",
         "type": "integer"
        },
        {
         "name": "year",
         "rawType": "int64",
         "type": "integer"
        },
        {
         "name": "period",
         "rawType": "object",
         "type": "string"
        },
        {
         "name": "age",
         "rawType": "object",
         "type": "string"
        },
        {
         "name": "gender",
         "rawType": "object",
         "type": "string"
        },
        {
         "name": "value",
         "rawType": "float64",
         "type": "float"
        }
       ],
       "ref": "b50a084e-fb0f-4abd-aa4b-bab181b8dc25",
       "rows": [
        [
         "0",
         "1402",
         "2023",
         "год",
         "0",
         "Женщины",
         "288.0"
        ],
        [
         "1",
         "1402",
         "2023",
         "год",
         "0",
         "Мужчины",
         "301.0"
        ],
        [
         "2",
         "1402",
         "2023",
         "год",
         "1",
         "Женщины",
         "277.0"
        ],
        [
         "3",
         "1402",
         "2023",
         "год",
         "1",
         "Мужчины",
         "316.0"
        ],
        [
         "4",
         "1402",
         "2023",
         "год",
         "10",
         "Женщины",
         "414.0"
        ]
       ],
       "shape": {
        "columns": 6,
        "rows": 5
       }
      },
      "text/html": [
       "<div>\n",
       "<style scoped>\n",
       "    .dataframe tbody tr th:only-of-type {\n",
       "        vertical-align: middle;\n",
       "    }\n",
       "\n",
       "    .dataframe tbody tr th {\n",
       "        vertical-align: top;\n",
       "    }\n",
       "\n",
       "    .dataframe thead th {\n",
       "        text-align: right;\n",
       "    }\n",
       "</style>\n",
       "<table border=\"1\" class=\"dataframe\">\n",
       "  <thead>\n",
       "    <tr style=\"text-align: right;\">\n",
       "      <th></th>\n",
       "      <th>territory_id</th>\n",
       "      <th>year</th>\n",
       "      <th>period</th>\n",
       "      <th>age</th>\n",
       "      <th>gender</th>\n",
       "      <th>value</th>\n",
       "    </tr>\n",
       "  </thead>\n",
       "  <tbody>\n",
       "    <tr>\n",
       "      <th>0</th>\n",
       "      <td>1402</td>\n",
       "      <td>2023</td>\n",
       "      <td>год</td>\n",
       "      <td>0</td>\n",
       "      <td>Женщины</td>\n",
       "      <td>288.0</td>\n",
       "    </tr>\n",
       "    <tr>\n",
       "      <th>1</th>\n",
       "      <td>1402</td>\n",
       "      <td>2023</td>\n",
       "      <td>год</td>\n",
       "      <td>0</td>\n",
       "      <td>Мужчины</td>\n",
       "      <td>301.0</td>\n",
       "    </tr>\n",
       "    <tr>\n",
       "      <th>2</th>\n",
       "      <td>1402</td>\n",
       "      <td>2023</td>\n",
       "      <td>год</td>\n",
       "      <td>1</td>\n",
       "      <td>Женщины</td>\n",
       "      <td>277.0</td>\n",
       "    </tr>\n",
       "    <tr>\n",
       "      <th>3</th>\n",
       "      <td>1402</td>\n",
       "      <td>2023</td>\n",
       "      <td>год</td>\n",
       "      <td>1</td>\n",
       "      <td>Мужчины</td>\n",
       "      <td>316.0</td>\n",
       "    </tr>\n",
       "    <tr>\n",
       "      <th>4</th>\n",
       "      <td>1402</td>\n",
       "      <td>2023</td>\n",
       "      <td>год</td>\n",
       "      <td>10</td>\n",
       "      <td>Женщины</td>\n",
       "      <td>414.0</td>\n",
       "    </tr>\n",
       "  </tbody>\n",
       "</table>\n",
       "</div>"
      ],
      "text/plain": [
       "   territory_id  year period age   gender  value\n",
       "0          1402  2023    год   0  Женщины  288.0\n",
       "1          1402  2023    год   0  Мужчины  301.0\n",
       "2          1402  2023    год   1  Женщины  277.0\n",
       "3          1402  2023    год   1  Мужчины  316.0\n",
       "4          1402  2023    год  10  Женщины  414.0"
      ]
     },
     "execution_count": 28,
     "metadata": {},
     "output_type": "execute_result"
    }
   ],
   "source": [
    "# 2_bdmo_population.parquet\n",
    "population = pd.read_parquet('data/2_bdmo_population.parquet')\n",
    "population.head()"
   ]
  },
  {
   "cell_type": "code",
   "execution_count": 29,
   "id": "1614f405",
   "metadata": {},
   "outputs": [],
   "source": [
    "# Привели год к правильному типу\n",
    "population['year'] = pd.to_datetime(population['year'], format='%Y')"
   ]
  },
  {
   "cell_type": "code",
   "execution_count": 30,
   "id": "e833f856",
   "metadata": {},
   "outputs": [
    {
     "data": {
      "text/plain": [
       "array(['0', '1', '10', '11', '12', '13', '14', '15', '16', '17', '18',\n",
       "       '19', '2', '20', '21', '22', '23', '24', '25', '26', '27', '28',\n",
       "       '29', '3', '30', '31', '32', '33', '34', '35', '36', '37', '38',\n",
       "       '39', '4', '40', '41', '42', '43', '44', '45', '46', '47', '48',\n",
       "       '49', '5', '50', '51', '52', '53', '54', '55', '56', '57', '58',\n",
       "       '59', '6', '60', '61', '62', '63', '64', '65', '65+', '66', '67',\n",
       "       '68', '69', '7', '70+', '8', '9', 'Всего', '70', '71', '72', '73',\n",
       "       '74', '75', '76', '77', '78', '79', '80+'], dtype=object)"
      ]
     },
     "execution_count": 30,
     "metadata": {},
     "output_type": "execute_result"
    }
   ],
   "source": [
    "# Посмотрим уникальные значения для возраста\n",
    "population['age'].unique()"
   ]
  },
  {
   "cell_type": "code",
   "execution_count": 31,
   "id": "54412856",
   "metadata": {},
   "outputs": [],
   "source": [
    "# Уберем агрегированное значение и почистим \"+\" для преобразования к числу\n",
    "population.drop(columns=['period'], inplace=True)\n",
    "\n",
    "population = population[~(population['age'].isin(['66', '67',\n",
    "       '68', '69', 'Всего', '70', '71', '72', '73',\n",
    "       '74', '75', '76', '77', '78', '79']))]\n",
    "\n",
    "population['age'] = pd.to_numeric(population['age'].apply(lambda x: x.replace('+', '')))"
   ]
  },
  {
   "cell_type": "code",
   "execution_count": 32,
   "id": "ea642274",
   "metadata": {},
   "outputs": [],
   "source": [
    "# Доавим названия регоинов для объединения муниципальных образований в регионы\n",
    "population = population.merge(district_name[['territory_id', 'region_name']], how='left', on='territory_id')"
   ]
  },
  {
   "cell_type": "code",
   "execution_count": 33,
   "id": "93207994",
   "metadata": {},
   "outputs": [
    {
     "data": {
      "application/vnd.microsoft.datawrangler.viewer.v0+json": {
       "columns": [
        {
         "name": "index",
         "rawType": "int64",
         "type": "integer"
        },
        {
         "name": "territory_id",
         "rawType": "int64",
         "type": "integer"
        },
        {
         "name": "year",
         "rawType": "datetime64[ns]",
         "type": "datetime"
        },
        {
         "name": "age",
         "rawType": "int64",
         "type": "integer"
        },
        {
         "name": "gender",
         "rawType": "object",
         "type": "string"
        },
        {
         "name": "value",
         "rawType": "float64",
         "type": "float"
        },
        {
         "name": "region_name",
         "rawType": "object",
         "type": "string"
        }
       ],
       "ref": "cf2f662b-272f-4b78-ab14-62c320c9be1b",
       "rows": [
        [
         "0",
         "1402",
         "2023-01-01 00:00:00",
         "0",
         "Женщины",
         "288.0",
         "Ленинградская область"
        ],
        [
         "1",
         "1402",
         "2023-01-01 00:00:00",
         "0",
         "Мужчины",
         "301.0",
         "Ленинградская область"
        ],
        [
         "2",
         "1402",
         "2023-01-01 00:00:00",
         "1",
         "Женщины",
         "277.0",
         "Ленинградская область"
        ],
        [
         "3",
         "1402",
         "2023-01-01 00:00:00",
         "1",
         "Мужчины",
         "316.0",
         "Ленинградская область"
        ],
        [
         "4",
         "1402",
         "2023-01-01 00:00:00",
         "10",
         "Женщины",
         "414.0",
         "Ленинградская область"
        ]
       ],
       "shape": {
        "columns": 6,
        "rows": 5
       }
      },
      "text/html": [
       "<div>\n",
       "<style scoped>\n",
       "    .dataframe tbody tr th:only-of-type {\n",
       "        vertical-align: middle;\n",
       "    }\n",
       "\n",
       "    .dataframe tbody tr th {\n",
       "        vertical-align: top;\n",
       "    }\n",
       "\n",
       "    .dataframe thead th {\n",
       "        text-align: right;\n",
       "    }\n",
       "</style>\n",
       "<table border=\"1\" class=\"dataframe\">\n",
       "  <thead>\n",
       "    <tr style=\"text-align: right;\">\n",
       "      <th></th>\n",
       "      <th>territory_id</th>\n",
       "      <th>year</th>\n",
       "      <th>age</th>\n",
       "      <th>gender</th>\n",
       "      <th>value</th>\n",
       "      <th>region_name</th>\n",
       "    </tr>\n",
       "  </thead>\n",
       "  <tbody>\n",
       "    <tr>\n",
       "      <th>0</th>\n",
       "      <td>1402</td>\n",
       "      <td>2023-01-01</td>\n",
       "      <td>0</td>\n",
       "      <td>Женщины</td>\n",
       "      <td>288.0</td>\n",
       "      <td>Ленинградская область</td>\n",
       "    </tr>\n",
       "    <tr>\n",
       "      <th>1</th>\n",
       "      <td>1402</td>\n",
       "      <td>2023-01-01</td>\n",
       "      <td>0</td>\n",
       "      <td>Мужчины</td>\n",
       "      <td>301.0</td>\n",
       "      <td>Ленинградская область</td>\n",
       "    </tr>\n",
       "    <tr>\n",
       "      <th>2</th>\n",
       "      <td>1402</td>\n",
       "      <td>2023-01-01</td>\n",
       "      <td>1</td>\n",
       "      <td>Женщины</td>\n",
       "      <td>277.0</td>\n",
       "      <td>Ленинградская область</td>\n",
       "    </tr>\n",
       "    <tr>\n",
       "      <th>3</th>\n",
       "      <td>1402</td>\n",
       "      <td>2023-01-01</td>\n",
       "      <td>1</td>\n",
       "      <td>Мужчины</td>\n",
       "      <td>316.0</td>\n",
       "      <td>Ленинградская область</td>\n",
       "    </tr>\n",
       "    <tr>\n",
       "      <th>4</th>\n",
       "      <td>1402</td>\n",
       "      <td>2023-01-01</td>\n",
       "      <td>10</td>\n",
       "      <td>Женщины</td>\n",
       "      <td>414.0</td>\n",
       "      <td>Ленинградская область</td>\n",
       "    </tr>\n",
       "  </tbody>\n",
       "</table>\n",
       "</div>"
      ],
      "text/plain": [
       "   territory_id       year  age   gender  value            region_name\n",
       "0          1402 2023-01-01    0  Женщины  288.0  Ленинградская область\n",
       "1          1402 2023-01-01    0  Мужчины  301.0  Ленинградская область\n",
       "2          1402 2023-01-01    1  Женщины  277.0  Ленинградская область\n",
       "3          1402 2023-01-01    1  Мужчины  316.0  Ленинградская область\n",
       "4          1402 2023-01-01   10  Женщины  414.0  Ленинградская область"
      ]
     },
     "execution_count": 33,
     "metadata": {},
     "output_type": "execute_result"
    }
   ],
   "source": [
    "population.head()"
   ]
  },
  {
   "cell_type": "code",
   "execution_count": 34,
   "id": "68bc77c0",
   "metadata": {},
   "outputs": [],
   "source": [
    "# Сгруппируем по регионам и просуммируем население\n",
    "population = population.pivot_table(index=['region_name', 'year', 'age', 'gender'], values='value', aggfunc=sum).reset_index()"
   ]
  },
  {
   "cell_type": "markdown",
   "id": "44f62b19",
   "metadata": {},
   "source": [
    "Разделим возраст по категориям"
   ]
  },
  {
   "cell_type": "markdown",
   "id": "344cac95",
   "metadata": {},
   "source": [
    "| Тип возраста | Диапазон |\n",
    "| -- | -- |\n",
    "| Младше трудоспособного | 0 - 16 |\n",
    "| Трудоспособного | 16 - 60 (м) / 16 - 55 (ж) |\n",
    "| Старше трудоспособного | 61+ (м) / 56+ (ж) |"
   ]
  },
  {
   "cell_type": "code",
   "execution_count": 35,
   "id": "f56d6564",
   "metadata": {},
   "outputs": [],
   "source": [
    "# Выделим категорию трудоспособности по возрасту\n",
    "m_bins = [-1, 16, 61, 100]\n",
    "w_bins = [-1, 16, 55, 100]\n",
    "\n",
    "labels = ['Младше трудоспособного', 'Трудоспособного', 'Старше трудоспособного']\n",
    "\n",
    "population.loc[population['gender'] == 'Мужчины', 'age_group'] = pd.cut(population.loc[population['gender'] == 'Мужчины', 'age'], bins=m_bins, labels=labels)\n",
    "population.loc[population['gender'] == 'Женщины', 'age_group'] = pd.cut(population.loc[population['gender'] == 'Женщины', 'age'], bins=w_bins, labels=labels)"
   ]
  },
  {
   "cell_type": "code",
   "execution_count": 36,
   "id": "3788a319",
   "metadata": {},
   "outputs": [],
   "source": [
    "# Заменим название региона на id региона\n",
    "population = (population\n",
    "              .merge(region_list[['region_id', 'region_name']], how='left', on='region_name')\n",
    "              [['region_id', 'year', 'age', 'gender', 'age_group', 'value']])\n",
    "\n",
    "# Отчищаем категории без данных\n",
    "population.dropna(inplace=True)\n",
    "# Приводим тип к целочисленному\n",
    "population['region_id'] = population['region_id'].astype(int)"
   ]
  },
  {
   "cell_type": "code",
   "execution_count": 37,
   "id": "479b5077",
   "metadata": {},
   "outputs": [
    {
     "data": {
      "application/vnd.microsoft.datawrangler.viewer.v0+json": {
       "columns": [
        {
         "name": "index",
         "rawType": "int64",
         "type": "integer"
        },
        {
         "name": "region_id",
         "rawType": "int64",
         "type": "integer"
        },
        {
         "name": "year",
         "rawType": "datetime64[ns]",
         "type": "datetime"
        },
        {
         "name": "age",
         "rawType": "int64",
         "type": "integer"
        },
        {
         "name": "gender",
         "rawType": "object",
         "type": "string"
        },
        {
         "name": "age_group",
         "rawType": "category",
         "type": "unknown"
        },
        {
         "name": "value",
         "rawType": "float64",
         "type": "float"
        }
       ],
       "ref": "61f4c087-e159-498f-9f3d-aa0f7d3776ec",
       "rows": [
        [
         "0",
         "67",
         "2023-01-01 00:00:00",
         "0",
         "Женщины",
         "Младше трудоспособного",
         "8767.0"
        ],
        [
         "1",
         "67",
         "2023-01-01 00:00:00",
         "0",
         "Мужчины",
         "Младше трудоспособного",
         "9386.0"
        ],
        [
         "2",
         "67",
         "2023-01-01 00:00:00",
         "1",
         "Женщины",
         "Младше трудоспособного",
         "9783.0"
        ],
        [
         "3",
         "67",
         "2023-01-01 00:00:00",
         "1",
         "Мужчины",
         "Младше трудоспособного",
         "10103.0"
        ],
        [
         "4",
         "67",
         "2023-01-01 00:00:00",
         "2",
         "Женщины",
         "Младше трудоспособного",
         "9908.0"
        ]
       ],
       "shape": {
        "columns": 6,
        "rows": 5
       }
      },
      "text/html": [
       "<div>\n",
       "<style scoped>\n",
       "    .dataframe tbody tr th:only-of-type {\n",
       "        vertical-align: middle;\n",
       "    }\n",
       "\n",
       "    .dataframe tbody tr th {\n",
       "        vertical-align: top;\n",
       "    }\n",
       "\n",
       "    .dataframe thead th {\n",
       "        text-align: right;\n",
       "    }\n",
       "</style>\n",
       "<table border=\"1\" class=\"dataframe\">\n",
       "  <thead>\n",
       "    <tr style=\"text-align: right;\">\n",
       "      <th></th>\n",
       "      <th>region_id</th>\n",
       "      <th>year</th>\n",
       "      <th>age</th>\n",
       "      <th>gender</th>\n",
       "      <th>age_group</th>\n",
       "      <th>value</th>\n",
       "    </tr>\n",
       "  </thead>\n",
       "  <tbody>\n",
       "    <tr>\n",
       "      <th>0</th>\n",
       "      <td>67</td>\n",
       "      <td>2023-01-01</td>\n",
       "      <td>0</td>\n",
       "      <td>Женщины</td>\n",
       "      <td>Младше трудоспособного</td>\n",
       "      <td>8767.0</td>\n",
       "    </tr>\n",
       "    <tr>\n",
       "      <th>1</th>\n",
       "      <td>67</td>\n",
       "      <td>2023-01-01</td>\n",
       "      <td>0</td>\n",
       "      <td>Мужчины</td>\n",
       "      <td>Младше трудоспособного</td>\n",
       "      <td>9386.0</td>\n",
       "    </tr>\n",
       "    <tr>\n",
       "      <th>2</th>\n",
       "      <td>67</td>\n",
       "      <td>2023-01-01</td>\n",
       "      <td>1</td>\n",
       "      <td>Женщины</td>\n",
       "      <td>Младше трудоспособного</td>\n",
       "      <td>9783.0</td>\n",
       "    </tr>\n",
       "    <tr>\n",
       "      <th>3</th>\n",
       "      <td>67</td>\n",
       "      <td>2023-01-01</td>\n",
       "      <td>1</td>\n",
       "      <td>Мужчины</td>\n",
       "      <td>Младше трудоспособного</td>\n",
       "      <td>10103.0</td>\n",
       "    </tr>\n",
       "    <tr>\n",
       "      <th>4</th>\n",
       "      <td>67</td>\n",
       "      <td>2023-01-01</td>\n",
       "      <td>2</td>\n",
       "      <td>Женщины</td>\n",
       "      <td>Младше трудоспособного</td>\n",
       "      <td>9908.0</td>\n",
       "    </tr>\n",
       "  </tbody>\n",
       "</table>\n",
       "</div>"
      ],
      "text/plain": [
       "   region_id       year  age   gender               age_group    value\n",
       "0         67 2023-01-01    0  Женщины  Младше трудоспособного   8767.0\n",
       "1         67 2023-01-01    0  Мужчины  Младше трудоспособного   9386.0\n",
       "2         67 2023-01-01    1  Женщины  Младше трудоспособного   9783.0\n",
       "3         67 2023-01-01    1  Мужчины  Младше трудоспособного  10103.0\n",
       "4         67 2023-01-01    2  Женщины  Младше трудоспособного   9908.0"
      ]
     },
     "execution_count": 37,
     "metadata": {},
     "output_type": "execute_result"
    }
   ],
   "source": [
    "population.head()"
   ]
  },
  {
   "cell_type": "code",
   "execution_count": 38,
   "id": "33db38de",
   "metadata": {},
   "outputs": [],
   "source": [
    "population.to_csv('data/to_db/population.csv')"
   ]
  },
  {
   "attachments": {
    "image.png": {
     "image/png": "[encoded data removed]"
    }
   },
   "cell_type": "markdown",
   "id": "61b8924b",
   "metadata": {},
   "source": [
    "#### Миграция\n",
    "\n",
    "![image.png](attachment:image.png)"
   ]
  },
  {
   "cell_type": "code",
   "execution_count": 40,
   "id": "16e09165",
   "metadata": {},
   "outputs": [
    {
     "data": {
      "application/vnd.microsoft.datawrangler.viewer.v0+json": {
       "columns": [
        {
         "name": "index",
         "rawType": "int64",
         "type": "integer"
        },
        {
         "name": "territory_id",
         "rawType": "int64",
         "type": "integer"
        },
        {
         "name": "year",
         "rawType": "int64",
         "type": "integer"
        },
        {
         "name": "period",
         "rawType": "object",
         "type": "string"
        },
        {
         "name": "age",
         "rawType": "object",
         "type": "string"
        },
        {
         "name": "gender",
         "rawType": "object",
         "type": "string"
        },
        {
         "name": "value",
         "rawType": "float64",
         "type": "float"
        }
       ],
       "ref": "8e5abfb6-6a87-44a6-9c3a-ce1427f2b96e",
       "rows": [
        [
         "0",
         "2335",
         "2023",
         "год",
         "75-79",
         "Женщины",
         "5.0"
        ],
        [
         "1",
         "2335",
         "2023",
         "год",
         "75-79",
         "Мужчины",
         null
        ],
        [
         "2",
         "2335",
         "2023",
         "год",
         "55-59",
         "Женщины",
         "-4.0"
        ],
        [
         "3",
         "2335",
         "2023",
         "год",
         "55-59",
         "Мужчины",
         "-4.0"
        ],
        [
         "4",
         "2335",
         "2023",
         "год",
         "15-19",
         "Женщины",
         "-11.0"
        ]
       ],
       "shape": {
        "columns": 6,
        "rows": 5
       }
      },
      "text/html": [
       "<div>\n",
       "<style scoped>\n",
       "    .dataframe tbody tr th:only-of-type {\n",
       "        vertical-align: middle;\n",
       "    }\n",
       "\n",
       "    .dataframe tbody tr th {\n",
       "        vertical-align: top;\n",
       "    }\n",
       "\n",
       "    .dataframe thead th {\n",
       "        text-align: right;\n",
       "    }\n",
       "</style>\n",
       "<table border=\"1\" class=\"dataframe\">\n",
       "  <thead>\n",
       "    <tr style=\"text-align: right;\">\n",
       "      <th></th>\n",
       "      <th>territory_id</th>\n",
       "      <th>year</th>\n",
       "      <th>period</th>\n",
       "      <th>age</th>\n",
       "      <th>gender</th>\n",
       "      <th>value</th>\n",
       "    </tr>\n",
       "  </thead>\n",
       "  <tbody>\n",
       "    <tr>\n",
       "      <th>0</th>\n",
       "      <td>2335</td>\n",
       "      <td>2023</td>\n",
       "      <td>год</td>\n",
       "      <td>75-79</td>\n",
       "      <td>Женщины</td>\n",
       "      <td>5.0</td>\n",
       "    </tr>\n",
       "    <tr>\n",
       "      <th>1</th>\n",
       "      <td>2335</td>\n",
       "      <td>2023</td>\n",
       "      <td>год</td>\n",
       "      <td>75-79</td>\n",
       "      <td>Мужчины</td>\n",
       "      <td>NaN</td>\n",
       "    </tr>\n",
       "    <tr>\n",
       "      <th>2</th>\n",
       "      <td>2335</td>\n",
       "      <td>2023</td>\n",
       "      <td>год</td>\n",
       "      <td>55-59</td>\n",
       "      <td>Женщины</td>\n",
       "      <td>-4.0</td>\n",
       "    </tr>\n",
       "    <tr>\n",
       "      <th>3</th>\n",
       "      <td>2335</td>\n",
       "      <td>2023</td>\n",
       "      <td>год</td>\n",
       "      <td>55-59</td>\n",
       "      <td>Мужчины</td>\n",
       "      <td>-4.0</td>\n",
       "    </tr>\n",
       "    <tr>\n",
       "      <th>4</th>\n",
       "      <td>2335</td>\n",
       "      <td>2023</td>\n",
       "      <td>год</td>\n",
       "      <td>15-19</td>\n",
       "      <td>Женщины</td>\n",
       "      <td>-11.0</td>\n",
       "    </tr>\n",
       "  </tbody>\n",
       "</table>\n",
       "</div>"
      ],
      "text/plain": [
       "   territory_id  year period    age   gender  value\n",
       "0          2335  2023    год  75-79  Женщины    5.0\n",
       "1          2335  2023    год  75-79  Мужчины    NaN\n",
       "2          2335  2023    год  55-59  Женщины   -4.0\n",
       "3          2335  2023    год  55-59  Мужчины   -4.0\n",
       "4          2335  2023    год  15-19  Женщины  -11.0"
      ]
     },
     "execution_count": 40,
     "metadata": {},
     "output_type": "execute_result"
    }
   ],
   "source": [
    "# 3_bdmo_migration.parquet\n",
    "migration = pd.read_parquet('data/3_bdmo_migration.parquet')\n",
    "migration.head()"
   ]
  },
  {
   "cell_type": "code",
   "execution_count": 41,
   "id": "2c4d9f66",
   "metadata": {},
   "outputs": [],
   "source": [
    "# Привели год к правильному типу\n",
    "migration['year'] = pd.to_datetime(migration['year'], format='%Y')"
   ]
  },
  {
   "cell_type": "code",
   "execution_count": 42,
   "id": "1b637748",
   "metadata": {},
   "outputs": [
    {
     "data": {
      "text/plain": [
       "array(['75-79', '55-59', '15-19', '90-94', '50-54', '35-39', '95-99',\n",
       "       '40-44', '0-4', '5-9', '65-69', '80-84', '30-34', '25-29', '3-5',\n",
       "       '20-24', 'Всего', '10-14', '60-64', '70-74', '45-49', '85-89',\n",
       "       '100'], dtype=object)"
      ]
     },
     "execution_count": 42,
     "metadata": {},
     "output_type": "execute_result"
    }
   ],
   "source": [
    "# Посмотрим уникальные значения для возраста\n",
    "migration['age'].unique()"
   ]
  },
  {
   "cell_type": "code",
   "execution_count": 43,
   "id": "a29741f7",
   "metadata": {},
   "outputs": [],
   "source": [
    "# Убрали период и агреггированные значения, а так же заполним пропуски в покзателе\n",
    "migration = migration[migration['age'] != 'Всего']\n",
    "migration.drop(columns=['period'], inplace=True)\n",
    "migration['value'].fillna(0, inplace=True)"
   ]
  },
  {
   "cell_type": "code",
   "execution_count": 44,
   "id": "a5f63d64",
   "metadata": {},
   "outputs": [],
   "source": [
    "# Сгруппировали данные по регионам\n",
    "migration = migration.merge(district_name[['territory_id', 'region_name']], how='left', on='territory_id')\n",
    "migration = migration.pivot_table(index=['region_name', 'year', 'gender', 'age'], values='value', aggfunc='sum').reset_index()"
   ]
  },
  {
   "cell_type": "code",
   "execution_count": 46,
   "id": "80f58e1d",
   "metadata": {},
   "outputs": [
    {
     "data": {
      "application/vnd.plotly.v1+json": {
       "config": {
        "plotlyServerURL": "https://plot.ly"
       },
       "data": [
        {
         "bingroup": "x",
         "histfunc": "sum",
         "hovertemplate": "age_start=%{x}<br>sum of value=%{y}<extra></extra>",
         "legendgroup": "",
         "marker": {
          "color": "#636efa",
          "pattern": {
           "shape": ""
          }
         },
         "name": "",
         "orientation": "v",
         "showlegend": false,
         "type": "histogram",
         "x": {
          "bdata": "AApkDxQZAx4jKC0FMjc8QUZLUFVaXwAKZA8UGQMeIygtBTI3PEFGS1BVWl8=",
          "dtype": "i1"
         },
         "xaxis": "x",
         "y": {
          "bdata": "AAAAAACAQMAAAAAAAABFQAAAAAAAAPC/AAAAAADgfsAAAAAAAMBvQAAAAAAAMHDAAAAAAAAAAAAAAAAAAABawAAAAAAAwFDAAAAAAAAAVMAAAAAAAIBCQAAAAAAAADdAAAAAAAAAMMAAAAAAAAAuQAAAAAAAAELAAAAAAAAAR8AAAAAAAAAxQAAAAAAAABzAAAAAAAAARcAAAAAAAAAiQAAAAAAAACbAAAAAAAAACEAAAAAAAAAUwAAAAAAAgElAAAAAAAAAAAAAAAAAAEiFwAAAAAAA8HpAAAAAAACASkAAAAAAAAAAAAAAAAAAwFJAAAAAAAAAOEAAAAAAAGBhQAAAAAAAAGJAAAAAAAAALkAAAAAAAABKQAAAAAAAQFxAAAAAAAAAP0AAAAAAAIBEQAAAAAAAACJAAAAAAAAAMMAAAAAAAAAiQAAAAAAAACZAAAAAAAAAFMAAAAAAAAAIwA==",
          "dtype": "f8"
         },
         "yaxis": "y"
        }
       ],
       "layout": {
        "barmode": "relative",
        "legend": {
         "tracegroupgap": 0
        },
        "template": {
         "data": {
          "bar": [
           {
            "error_x": {
             "color": "#2a3f5f"
            },
            "error_y": {
             "color": "#2a3f5f"
            },
            "marker": {
             "line": {
              "color": "#E5ECF6",
              "width": 0.5
             },
             "pattern": {
              "fillmode": "overlay",
              "size": 10,
              "solidity": 0.2
             }
            },
            "type": "bar"
           }
          ],
          "barpolar": [
           {
            "marker": {
             "line": {
              "color": "#E5ECF6",
              "width": 0.5
             },
             "pattern": {
              "fillmode": "overlay",
              "size": 10,
              "solidity": 0.2
             }
            },
            "type": "barpolar"
           }
          ],
          "carpet": [
           {
            "aaxis": {
             "endlinecolor": "#2a3f5f",
             "gridcolor": "white",
             "linecolor": "white",
             "minorgridcolor": "white",
             "startlinecolor": "#2a3f5f"
            },
            "baxis": {
             "endlinecolor": "#2a3f5f",
             "gridcolor": "white",
             "linecolor": "white",
             "minorgridcolor": "white",
             "startlinecolor": "#2a3f5f"
            },
            "type": "carpet"
           }
          ],
          "choropleth": [
           {
            "colorbar": {
             "outlinewidth": 0,
             "ticks": ""
            },
            "type": "choropleth"
           }
          ],
          "contour": [
           {
            "colorbar": {
             "outlinewidth": 0,
             "ticks": ""
            },
            "colorscale": [
             [
              0,
              "#0d0887"
             ],
             [
              0.1111111111111111,
              "#46039f"
             ],
             [
              0.2222222222222222,
              "#7201a8"
             ],
             [
              0.3333333333333333,
              "#9c179e"
             ],
             [
              0.4444444444444444,
              "#bd3786"
             ],
             [
              0.5555555555555556,
              "#d8576b"
             ],
             [
              0.6666666666666666,
              "#ed7953"
             ],
             [
              0.7777777777777778,
              "#fb9f3a"
             ],
             [
              0.8888888888888888,
              "#fdca26"
             ],
             [
              1,
              "#f0f921"
             ]
            ],
            "type": "contour"
           }
          ],
          "contourcarpet": [
           {
            "colorbar": {
             "outlinewidth": 0,
             "ticks": ""
            },
            "type": "contourcarpet"
           }
          ],
          "heatmap": [
           {
            "colorbar": {
             "outlinewidth": 0,
             "ticks": ""
            },
            "colorscale": [
             [
              0,
              "#0d0887"
             ],
             [
              0.1111111111111111,
              "#46039f"
             ],
             [
              0.2222222222222222,
              "#7201a8"
             ],
             [
              0.3333333333333333,
              "#9c179e"
             ],
             [
              0.4444444444444444,
              "#bd3786"
             ],
             [
              0.5555555555555556,
              "#d8576b"
             ],
             [
              0.6666666666666666,
              "#ed7953"
             ],
             [
              0.7777777777777778,
              "#fb9f3a"
             ],
             [
              0.8888888888888888,
              "#fdca26"
             ],
             [
              1,
              "#f0f921"
             ]
            ],
            "type": "heatmap"
           }
          ],
          "histogram": [
           {
            "marker": {
             "pattern": {
              "fillmode": "overlay",
              "size": 10,
              "solidity": 0.2
             }
            },
            "type": "histogram"
           }
          ],
          "histogram2d": [
           {
            "colorbar": {
             "outlinewidth": 0,
             "ticks": ""
            },
            "colorscale": [
             [
              0,
              "#0d0887"
             ],
             [
              0.1111111111111111,
              "#46039f"
             ],
             [
              0.2222222222222222,
              "#7201a8"
             ],
             [
              0.3333333333333333,
              "#9c179e"
             ],
             [
              0.4444444444444444,
              "#bd3786"
             ],
             [
              0.5555555555555556,
              "#d8576b"
             ],
             [
              0.6666666666666666,
              "#ed7953"
             ],
             [
              0.7777777777777778,
              "#fb9f3a"
             ],
             [
              0.8888888888888888,
              "#fdca26"
             ],
             [
              1,
              "#f0f921"
             ]
            ],
            "type": "histogram2d"
           }
          ],
          "histogram2dcontour": [
           {
            "colorbar": {
             "outlinewidth": 0,
             "ticks": ""
            },
            "colorscale": [
             [
              0,
              "#0d0887"
             ],
             [
              0.1111111111111111,
              "#46039f"
             ],
             [
              0.2222222222222222,
              "#7201a8"
             ],
             [
              0.3333333333333333,
              "#9c179e"
             ],
             [
              0.4444444444444444,
              "#bd3786"
             ],
             [
              0.5555555555555556,
              "#d8576b"
             ],
             [
              0.6666666666666666,
              "#ed7953"
             ],
             [
              0.7777777777777778,
              "#fb9f3a"
             ],
             [
              0.8888888888888888,
              "#fdca26"
             ],
             [
              1,
              "#f0f921"
             ]
            ],
            "type": "histogram2dcontour"
           }
          ],
          "mesh3d": [
           {
            "colorbar": {
             "outlinewidth": 0,
             "ticks": ""
            },
            "type": "mesh3d"
           }
          ],
          "parcoords": [
           {
            "line": {
             "colorbar": {
              "outlinewidth": 0,
              "ticks": ""
             }
            },
            "type": "parcoords"
           }
          ],
          "pie": [
           {
            "automargin": true,
            "type": "pie"
           }
          ],
          "scatter": [
           {
            "fillpattern": {
             "fillmode": "overlay",
             "size": 10,
             "solidity": 0.2
            },
            "type": "scatter"
           }
          ],
          "scatter3d": [
           {
            "line": {
             "colorbar": {
              "outlinewidth": 0,
              "ticks": ""
             }
            },
            "marker": {
             "colorbar": {
              "outlinewidth": 0,
              "ticks": ""
             }
            },
            "type": "scatter3d"
           }
          ],
          "scattercarpet": [
           {
            "marker": {
             "colorbar": {
              "outlinewidth": 0,
              "ticks": ""
             }
            },
            "type": "scattercarpet"
           }
          ],
          "scattergeo": [
           {
            "marker": {
             "colorbar": {
              "outlinewidth": 0,
              "ticks": ""
             }
            },
            "type": "scattergeo"
           }
          ],
          "scattergl": [
           {
            "marker": {
             "colorbar": {
              "outlinewidth": 0,
              "ticks": ""
             }
            },
            "type": "scattergl"
           }
          ],
          "scattermap": [
           {
            "marker": {
             "colorbar": {
              "outlinewidth": 0,
              "ticks": ""
             }
            },
            "type": "scattermap"
           }
          ],
          "scattermapbox": [
           {
            "marker": {
             "colorbar": {
              "outlinewidth": 0,
              "ticks": ""
             }
            },
            "type": "scattermapbox"
           }
          ],
          "scatterpolar": [
           {
            "marker": {
             "colorbar": {
              "outlinewidth": 0,
              "ticks": ""
             }
            },
            "type": "scatterpolar"
           }
          ],
          "scatterpolargl": [
           {
            "marker": {
             "colorbar": {
              "outlinewidth": 0,
              "ticks": ""
             }
            },
            "type": "scatterpolargl"
           }
          ],
          "scatterternary": [
           {
            "marker": {
             "colorbar": {
              "outlinewidth": 0,
              "ticks": ""
             }
            },
            "type": "scatterternary"
           }
          ],
          "surface": [
           {
            "colorbar": {
             "outlinewidth": 0,
             "ticks": ""
            },
            "colorscale": [
             [
              0,
              "#0d0887"
             ],
             [
              0.1111111111111111,
              "#46039f"
             ],
             [
              0.2222222222222222,
              "#7201a8"
             ],
             [
              0.3333333333333333,
              "#9c179e"
             ],
             [
              0.4444444444444444,
              "#bd3786"
             ],
             [
              0.5555555555555556,
              "#d8576b"
             ],
             [
              0.6666666666666666,
              "#ed7953"
             ],
             [
              0.7777777777777778,
              "#fb9f3a"
             ],
             [
              0.8888888888888888,
              "#fdca26"
             ],
             [
              1,
              "#f0f921"
             ]
            ],
            "type": "surface"
           }
          ],
          "table": [
           {
            "cells": {
             "fill": {
              "color": "#EBF0F8"
             },
             "line": {
              "color": "white"
             }
            },
            "header": {
             "fill": {
              "color": "#C8D4E3"
             },
             "line": {
              "color": "white"
             }
            },
            "type": "table"
           }
          ]
         },
         "layout": {
          "annotationdefaults": {
           "arrowcolor": "#2a3f5f",
           "arrowhead": 0,
           "arrowwidth": 1
          },
          "autotypenumbers": "strict",
          "coloraxis": {
           "colorbar": {
            "outlinewidth": 0,
            "ticks": ""
           }
          },
          "colorscale": {
           "diverging": [
            [
             0,
             "#8e0152"
            ],
            [
             0.1,
             "#c51b7d"
            ],
            [
             0.2,
             "#de77ae"
            ],
            [
             0.3,
             "#f1b6da"
            ],
            [
             0.4,
             "#fde0ef"
            ],
            [
             0.5,
             "#f7f7f7"
            ],
            [
             0.6,
             "#e6f5d0"
            ],
            [
             0.7,
             "#b8e186"
            ],
            [
             0.8,
             "#7fbc41"
            ],
            [
             0.9,
             "#4d9221"
            ],
            [
             1,
             "#276419"
            ]
           ],
           "sequential": [
            [
             0,
             "#0d0887"
            ],
            [
             0.1111111111111111,
             "#46039f"
            ],
            [
             0.2222222222222222,
             "#7201a8"
            ],
            [
             0.3333333333333333,
             "#9c179e"
            ],
            [
             0.4444444444444444,
             "#bd3786"
            ],
            [
             0.5555555555555556,
             "#d8576b"
            ],
            [
             0.6666666666666666,
             "#ed7953"
            ],
            [
             0.7777777777777778,
             "#fb9f3a"
            ],
            [
             0.8888888888888888,
             "#fdca26"
            ],
            [
             1,
             "#f0f921"
            ]
           ],
           "sequentialminus": [
            [
             0,
             "#0d0887"
            ],
            [
             0.1111111111111111,
             "#46039f"
            ],
            [
             0.2222222222222222,
             "#7201a8"
            ],
            [
             0.3333333333333333,
             "#9c179e"
            ],
            [
             0.4444444444444444,
             "#bd3786"
            ],
            [
             0.5555555555555556,
             "#d8576b"
            ],
            [
             0.6666666666666666,
             "#ed7953"
            ],
            [
             0.7777777777777778,
             "#fb9f3a"
            ],
            [
             0.8888888888888888,
             "#fdca26"
            ],
            [
             1,
             "#f0f921"
            ]
           ]
          },
          "colorway": [
           "#636efa",
           "#EF553B",
           "#00cc96",
           "#ab63fa",
           "#FFA15A",
           "#19d3f3",
           "#FF6692",
           "#B6E880",
           "#FF97FF",
           "#FECB52"
          ],
          "font": {
           "color": "#2a3f5f"
          },
          "geo": {
           "bgcolor": "white",
           "lakecolor": "white",
           "landcolor": "#E5ECF6",
           "showlakes": true,
           "showland": true,
           "subunitcolor": "white"
          },
          "hoverlabel": {
           "align": "left"
          },
          "hovermode": "closest",
          "mapbox": {
           "style": "light"
          },
          "paper_bgcolor": "white",
          "plot_bgcolor": "#E5ECF6",
          "polar": {
           "angularaxis": {
            "gridcolor": "white",
            "linecolor": "white",
            "ticks": ""
           },
           "bgcolor": "#E5ECF6",
           "radialaxis": {
            "gridcolor": "white",
            "linecolor": "white",
            "ticks": ""
           }
          },
          "scene": {
           "xaxis": {
            "backgroundcolor": "#E5ECF6",
            "gridcolor": "white",
            "gridwidth": 2,
            "linecolor": "white",
            "showbackground": true,
            "ticks": "",
            "zerolinecolor": "white"
           },
           "yaxis": {
            "backgroundcolor": "#E5ECF6",
            "gridcolor": "white",
            "gridwidth": 2,
            "linecolor": "white",
            "showbackground": true,
            "ticks": "",
            "zerolinecolor": "white"
           },
           "zaxis": {
            "backgroundcolor": "#E5ECF6",
            "gridcolor": "white",
            "gridwidth": 2,
            "linecolor": "white",
            "showbackground": true,
            "ticks": "",
            "zerolinecolor": "white"
           }
          },
          "shapedefaults": {
           "line": {
            "color": "#2a3f5f"
           }
          },
          "ternary": {
           "aaxis": {
            "gridcolor": "white",
            "linecolor": "white",
            "ticks": ""
           },
           "baxis": {
            "gridcolor": "white",
            "linecolor": "white",
            "ticks": ""
           },
           "bgcolor": "#E5ECF6",
           "caxis": {
            "gridcolor": "white",
            "linecolor": "white",
            "ticks": ""
           }
          },
          "title": {
           "x": 0.05
          },
          "xaxis": {
           "automargin": true,
           "gridcolor": "white",
           "linecolor": "white",
           "ticks": "",
           "title": {
            "standoff": 15
           },
           "zerolinecolor": "white",
           "zerolinewidth": 2
          },
          "yaxis": {
           "automargin": true,
           "gridcolor": "white",
           "linecolor": "white",
           "ticks": "",
           "title": {
            "standoff": 15
           },
           "zerolinecolor": "white",
           "zerolinewidth": 2
          }
         }
        },
        "title": {
         "text": "Динамика миграции по Тверская область"
        },
        "xaxis": {
         "anchor": "y",
         "domain": [
          0,
          1
         ],
         "title": {
          "text": "age_start"
         }
        },
        "yaxis": {
         "anchor": "x",
         "domain": [
          0,
          1
         ],
         "title": {
          "text": "sum of value"
         }
        }
       }
      }
     },
     "metadata": {},
     "output_type": "display_data"
    }
   ],
   "source": [
    "# Посмотрим на распределение миграции по возрастам для случайного региона\n",
    "import random\n",
    "\n",
    "region = random.choices(migration['region_name'].unique(), k=1)[0]\n",
    "\n",
    "data = migration[migration['region_name'] == region]\n",
    "data['age_start'] = pd.to_numeric(data['age'].apply(lambda x: int(x.split('-')[0])))\n",
    "data = data.reset_index()\n",
    "\n",
    "fig = px.histogram(data, x='age_start', y='value', title=f'Динамика миграции по {data[\"region_name\"][0]}')\n",
    "fig.show()"
   ]
  },
  {
   "cell_type": "code",
   "execution_count": 47,
   "id": "ea61b3a4",
   "metadata": {},
   "outputs": [],
   "source": [
    "# Замении назваание региона на id региона\n",
    "migration = migration.merge(region_list[['region_id', 'region_name']], how='left', on='region_name')[['region_id', 'year', 'age', 'gender', 'value']]\n",
    "\n",
    "# Отчищаем категории без данных\n",
    "migration.dropna(inplace=True)\n",
    "# Приводим тип к целочисленному\n",
    "migration['region_id'] = migration['region_id'].astype(int)"
   ]
  },
  {
   "cell_type": "code",
   "execution_count": 48,
   "id": "e486e6a3",
   "metadata": {},
   "outputs": [],
   "source": [
    "migration.to_csv('data/to_db/migration.csv')"
   ]
  },
  {
   "attachments": {
    "image.png": {
     "image/png": "[encoded data removed]"
    }
   },
   "cell_type": "markdown",
   "id": "a3615b17",
   "metadata": {},
   "source": [
    "#### Заработная плата\n",
    "\n",
    "![image.png](attachment:image.png)"
   ]
  },
  {
   "cell_type": "code",
   "execution_count": 50,
   "id": "3797de4f",
   "metadata": {},
   "outputs": [
    {
     "data": {
      "application/vnd.microsoft.datawrangler.viewer.v0+json": {
       "columns": [
        {
         "name": "index",
         "rawType": "int64",
         "type": "integer"
        },
        {
         "name": "region_name",
         "rawType": "object",
         "type": "string"
        },
        {
         "name": "year",
         "rawType": "int64",
         "type": "integer"
        },
        {
         "name": "okved_name",
         "rawType": "object",
         "type": "string"
        },
        {
         "name": "value",
         "rawType": "float64",
         "type": "float"
        }
       ],
       "ref": "e63e5e53-da88-4c68-a94a-13e01dd9e535",
       "rows": [
        [
         "0",
         "Белгородская область",
         "2022",
         "Все отрасли",
         "47637.8"
        ],
        [
         "1",
         "Белгородская область",
         "2022",
         "Сельское хозяйство",
         "51086.0"
        ],
        [
         "2",
         "Белгородская область",
         "2022",
         "Добыча полезных ископаемых",
         "74682.4"
        ],
        [
         "3",
         "Белгородская область",
         "2022",
         "Обрабатывающие производства",
         "50633.3"
        ],
        [
         "4",
         "Белгородская область",
         "2022",
         "Услуги ЖКХ",
         "51502.5"
        ]
       ],
       "shape": {
        "columns": 4,
        "rows": 5
       }
      },
      "text/html": [
       "<div>\n",
       "<style scoped>\n",
       "    .dataframe tbody tr th:only-of-type {\n",
       "        vertical-align: middle;\n",
       "    }\n",
       "\n",
       "    .dataframe tbody tr th {\n",
       "        vertical-align: top;\n",
       "    }\n",
       "\n",
       "    .dataframe thead th {\n",
       "        text-align: right;\n",
       "    }\n",
       "</style>\n",
       "<table border=\"1\" class=\"dataframe\">\n",
       "  <thead>\n",
       "    <tr style=\"text-align: right;\">\n",
       "      <th></th>\n",
       "      <th>region_name</th>\n",
       "      <th>year</th>\n",
       "      <th>okved_name</th>\n",
       "      <th>value</th>\n",
       "    </tr>\n",
       "  </thead>\n",
       "  <tbody>\n",
       "    <tr>\n",
       "      <th>0</th>\n",
       "      <td>Белгородская область</td>\n",
       "      <td>2022</td>\n",
       "      <td>Все отрасли</td>\n",
       "      <td>47637.8</td>\n",
       "    </tr>\n",
       "    <tr>\n",
       "      <th>1</th>\n",
       "      <td>Белгородская область</td>\n",
       "      <td>2022</td>\n",
       "      <td>Сельское хозяйство</td>\n",
       "      <td>51086.0</td>\n",
       "    </tr>\n",
       "    <tr>\n",
       "      <th>2</th>\n",
       "      <td>Белгородская область</td>\n",
       "      <td>2022</td>\n",
       "      <td>Добыча полезных ископаемых</td>\n",
       "      <td>74682.4</td>\n",
       "    </tr>\n",
       "    <tr>\n",
       "      <th>3</th>\n",
       "      <td>Белгородская область</td>\n",
       "      <td>2022</td>\n",
       "      <td>Обрабатывающие производства</td>\n",
       "      <td>50633.3</td>\n",
       "    </tr>\n",
       "    <tr>\n",
       "      <th>4</th>\n",
       "      <td>Белгородская область</td>\n",
       "      <td>2022</td>\n",
       "      <td>Услуги ЖКХ</td>\n",
       "      <td>51502.5</td>\n",
       "    </tr>\n",
       "  </tbody>\n",
       "</table>\n",
       "</div>"
      ],
      "text/plain": [
       "            region_name  year                   okved_name    value\n",
       "0  Белгородская область  2022                  Все отрасли  47637.8\n",
       "1  Белгородская область  2022           Сельское хозяйство  51086.0\n",
       "2  Белгородская область  2022   Добыча полезных ископаемых  74682.4\n",
       "3  Белгородская область  2022  Обрабатывающие производства  50633.3\n",
       "4  Белгородская область  2022                   Услуги ЖКХ  51502.5"
      ]
     },
     "execution_count": 50,
     "metadata": {},
     "output_type": "execute_result"
    }
   ],
   "source": [
    "# region_salary.xls\n",
    "region_salary = pd.read_excel('data/clear/region_salary.xls')\n",
    "region_salary.head()"
   ]
  },
  {
   "cell_type": "code",
   "execution_count": 51,
   "id": "9865d3f1",
   "metadata": {},
   "outputs": [],
   "source": [
    "# Привели год к правильному типу\n",
    "region_salary['year'] = pd.to_datetime(region_salary['year'], format='%Y')"
   ]
  },
  {
   "cell_type": "code",
   "execution_count": 52,
   "id": "e3f96317",
   "metadata": {},
   "outputs": [],
   "source": [
    "# Заменили названия региона на id региона\n",
    "region_salary = (region_salary\n",
    "                 .merge(region_list[['region_id', 'region_name']], how='left', on='region_name'\n",
    "                        )[['region_id', 'year', 'okved_name', 'value']])\n",
    "\n",
    "# Очистили категории с пропусками\n",
    "region_salary.dropna(inplace=True)\n",
    "# Приводим тип к целочисленному\n",
    "region_salary['region_id'] = region_salary['region_id'].astype(int)"
   ]
  },
  {
   "cell_type": "code",
   "execution_count": 53,
   "id": "b5481c88",
   "metadata": {},
   "outputs": [],
   "source": [
    "region_salary.to_csv('data/to_db/region_salary.csv')"
   ]
  },
  {
   "attachments": {
    "image.png": {
     "image/png": "[encoded data removed]"
    }
   },
   "cell_type": "markdown",
   "id": "6f6b890d",
   "metadata": {},
   "source": [
    "#### Автодорожное сообщение\n",
    "\n",
    "![image.png](attachment:image.png)"
   ]
  },
  {
   "cell_type": "markdown",
   "id": "06c3c376",
   "metadata": {},
   "source": [
    "Будем учитывать только дороги связывающие регионы между собой для экономии места"
   ]
  },
  {
   "cell_type": "code",
   "execution_count": 65,
   "id": "ee23838e",
   "metadata": {},
   "outputs": [
    {
     "data": {
      "application/vnd.microsoft.datawrangler.viewer.v0+json": {
       "columns": [
        {
         "name": "index",
         "rawType": "int64",
         "type": "integer"
        },
        {
         "name": "territory_id_x",
         "rawType": "int32",
         "type": "integer"
        },
        {
         "name": "territory_id_y",
         "rawType": "int32",
         "type": "integer"
        },
        {
         "name": "distance",
         "rawType": "float64",
         "type": "float"
        }
       ],
       "ref": "5cefeb31-9511-4f14-bf45-ee94385d08eb",
       "rows": [
        [
         "0",
         "2",
         "1",
         "100.9"
        ],
        [
         "1",
         "3",
         "1",
         "36.1"
        ],
        [
         "2",
         "3",
         "2",
         "85.0"
        ],
        [
         "3",
         "4",
         "3",
         "44.4"
        ],
        [
         "4",
         "4",
         "1",
         "59.9"
        ],
        [
         "5",
         "4",
         "2",
         "129.2"
        ],
        [
         "6",
         "5",
         "3",
         "54.6"
        ],
        [
         "7",
         "5",
         "2",
         "71.9"
        ],
        [
         "8",
         "5",
         "1",
         "77.9"
        ],
        [
         "9",
         "5",
         "4",
         "88.1"
        ],
        [
         "10",
         "6",
         "1",
         "13.7"
        ],
        [
         "11",
         "6",
         "3",
         "46.9"
        ],
        [
         "12",
         "6",
         "4",
         "69.1"
        ],
        [
         "13",
         "6",
         "5",
         "91.6"
        ],
        [
         "14",
         "6",
         "2",
         "114.6"
        ],
        [
         "15",
         "7",
         "2",
         "23.8"
        ],
        [
         "16",
         "7",
         "5",
         "82.1"
        ],
        [
         "17",
         "7",
         "3",
         "106.2"
        ],
        [
         "18",
         "7",
         "1",
         "122.1"
        ],
        [
         "19",
         "7",
         "6",
         "135.9"
        ],
        [
         "20",
         "7",
         "4",
         "150.5"
        ],
        [
         "21",
         "8",
         "2",
         "18.8"
        ],
        [
         "22",
         "8",
         "7",
         "40.1"
        ],
        [
         "23",
         "8",
         "5",
         "53.1"
        ],
        [
         "24",
         "8",
         "3",
         "66.1"
        ],
        [
         "25",
         "8",
         "1",
         "82.0"
        ],
        [
         "26",
         "8",
         "6",
         "95.8"
        ],
        [
         "27",
         "8",
         "4",
         "110.4"
        ],
        [
         "28",
         "9",
         "3",
         "24.8"
        ],
        [
         "29",
         "9",
         "4",
         "27.5"
        ],
        [
         "30",
         "9",
         "1",
         "59.1"
        ],
        [
         "31",
         "9",
         "5",
         "60.6"
        ],
        [
         "32",
         "9",
         "6",
         "70.0"
        ],
        [
         "33",
         "9",
         "8",
         "90.9"
        ],
        [
         "34",
         "9",
         "2",
         "109.8"
        ],
        [
         "35",
         "9",
         "7",
         "131.0"
        ],
        [
         "36",
         "10",
         "4",
         "4274.5"
        ],
        [
         "37",
         "10",
         "5",
         "4285.1"
        ],
        [
         "38",
         "10",
         "3",
         "4296.6"
        ],
        [
         "39",
         "10",
         "9",
         "4296.8"
        ],
        [
         "40",
         "10",
         "1",
         "4330.9"
        ],
        [
         "41",
         "10",
         "8",
         "4334.6"
        ],
        [
         "42",
         "10",
         "2",
         "4339.6"
        ],
        [
         "43",
         "10",
         "6",
         "4341.8"
        ],
        [
         "44",
         "10",
         "7",
         "4343.0"
        ],
        [
         "45",
         "11",
         "10",
         "457.3"
        ],
        [
         "46",
         "11",
         "4",
         "4699.7"
        ],
        [
         "47",
         "11",
         "5",
         "4710.3"
        ],
        [
         "48",
         "11",
         "3",
         "4721.7"
        ],
        [
         "49",
         "11",
         "9",
         "4722.0"
        ]
       ],
       "shape": {
        "columns": 3,
        "rows": 3303736
       }
      },
      "text/html": [
       "<div>\n",
       "<style scoped>\n",
       "    .dataframe tbody tr th:only-of-type {\n",
       "        vertical-align: middle;\n",
       "    }\n",
       "\n",
       "    .dataframe tbody tr th {\n",
       "        vertical-align: top;\n",
       "    }\n",
       "\n",
       "    .dataframe thead th {\n",
       "        text-align: right;\n",
       "    }\n",
       "</style>\n",
       "<table border=\"1\" class=\"dataframe\">\n",
       "  <thead>\n",
       "    <tr style=\"text-align: right;\">\n",
       "      <th></th>\n",
       "      <th>territory_id_x</th>\n",
       "      <th>territory_id_y</th>\n",
       "      <th>distance</th>\n",
       "    </tr>\n",
       "  </thead>\n",
       "  <tbody>\n",
       "    <tr>\n",
       "      <th>0</th>\n",
       "      <td>2</td>\n",
       "      <td>1</td>\n",
       "      <td>100.9</td>\n",
       "    </tr>\n",
       "    <tr>\n",
       "      <th>1</th>\n",
       "      <td>3</td>\n",
       "      <td>1</td>\n",
       "      <td>36.1</td>\n",
       "    </tr>\n",
       "    <tr>\n",
       "      <th>2</th>\n",
       "      <td>3</td>\n",
       "      <td>2</td>\n",
       "      <td>85.0</td>\n",
       "    </tr>\n",
       "    <tr>\n",
       "      <th>3</th>\n",
       "      <td>4</td>\n",
       "      <td>3</td>\n",
       "      <td>44.4</td>\n",
       "    </tr>\n",
       "    <tr>\n",
       "      <th>4</th>\n",
       "      <td>4</td>\n",
       "      <td>1</td>\n",
       "      <td>59.9</td>\n",
       "    </tr>\n",
       "    <tr>\n",
       "      <th>...</th>\n",
       "      <td>...</td>\n",
       "      <td>...</td>\n",
       "      <td>...</td>\n",
       "    </tr>\n",
       "    <tr>\n",
       "      <th>3303731</th>\n",
       "      <td>2313</td>\n",
       "      <td>2286</td>\n",
       "      <td>0.0</td>\n",
       "    </tr>\n",
       "    <tr>\n",
       "      <th>3303732</th>\n",
       "      <td>2316</td>\n",
       "      <td>2288</td>\n",
       "      <td>0.0</td>\n",
       "    </tr>\n",
       "    <tr>\n",
       "      <th>3303733</th>\n",
       "      <td>2337</td>\n",
       "      <td>2318</td>\n",
       "      <td>0.0</td>\n",
       "    </tr>\n",
       "    <tr>\n",
       "      <th>3303734</th>\n",
       "      <td>2334</td>\n",
       "      <td>2320</td>\n",
       "      <td>0.0</td>\n",
       "    </tr>\n",
       "    <tr>\n",
       "      <th>3303735</th>\n",
       "      <td>2339</td>\n",
       "      <td>2338</td>\n",
       "      <td>0.0</td>\n",
       "    </tr>\n",
       "  </tbody>\n",
       "</table>\n",
       "<p>3303736 rows × 3 columns</p>\n",
       "</div>"
      ],
      "text/plain": [
       "         territory_id_x  territory_id_y  distance\n",
       "0                     2               1     100.9\n",
       "1                     3               1      36.1\n",
       "2                     3               2      85.0\n",
       "3                     4               3      44.4\n",
       "4                     4               1      59.9\n",
       "...                 ...             ...       ...\n",
       "3303731            2313            2286       0.0\n",
       "3303732            2316            2288       0.0\n",
       "3303733            2337            2318       0.0\n",
       "3303734            2334            2320       0.0\n",
       "3303735            2339            2338       0.0\n",
       "\n",
       "[3303736 rows x 3 columns]"
      ]
     },
     "execution_count": 65,
     "metadata": {},
     "output_type": "execute_result"
    }
   ],
   "source": [
    "# 5_connection.parquet\n",
    "connection = pd.read_parquet('data/5_connection.parquet')\n",
    "connection"
   ]
  },
  {
   "cell_type": "code",
   "execution_count": 66,
   "id": "0bb6833d",
   "metadata": {},
   "outputs": [
    {
     "data": {
      "application/vnd.microsoft.datawrangler.viewer.v0+json": {
       "columns": [
        {
         "name": "index",
         "rawType": "int64",
         "type": "integer"
        },
        {
         "name": "territory_id_x",
         "rawType": "int32",
         "type": "integer"
        },
        {
         "name": "territory_id_y",
         "rawType": "int32",
         "type": "integer"
        },
        {
         "name": "distance",
         "rawType": "float64",
         "type": "float"
        },
        {
         "name": "region_name_x",
         "rawType": "object",
         "type": "string"
        },
        {
         "name": "region_name_y",
         "rawType": "object",
         "type": "string"
        }
       ],
       "ref": "fdde476b-5d96-4fb5-a078-12f071e7b13c",
       "rows": [
        [
         "0",
         "2",
         "1",
         "100.9",
         "Республика Адыгея",
         "Республика Адыгея"
        ],
        [
         "1",
         "3",
         "1",
         "36.1",
         "Республика Адыгея",
         "Республика Адыгея"
        ],
        [
         "2",
         "3",
         "2",
         "85.0",
         "Республика Адыгея",
         "Республика Адыгея"
        ],
        [
         "3",
         "4",
         "3",
         "44.4",
         "Республика Адыгея",
         "Республика Адыгея"
        ],
        [
         "4",
         "4",
         "1",
         "59.9",
         "Республика Адыгея",
         "Республика Адыгея"
        ]
       ],
       "shape": {
        "columns": 5,
        "rows": 5
       }
      },
      "text/html": [
       "<div>\n",
       "<style scoped>\n",
       "    .dataframe tbody tr th:only-of-type {\n",
       "        vertical-align: middle;\n",
       "    }\n",
       "\n",
       "    .dataframe tbody tr th {\n",
       "        vertical-align: top;\n",
       "    }\n",
       "\n",
       "    .dataframe thead th {\n",
       "        text-align: right;\n",
       "    }\n",
       "</style>\n",
       "<table border=\"1\" class=\"dataframe\">\n",
       "  <thead>\n",
       "    <tr style=\"text-align: right;\">\n",
       "      <th></th>\n",
       "      <th>territory_id_x</th>\n",
       "      <th>territory_id_y</th>\n",
       "      <th>distance</th>\n",
       "      <th>region_name_x</th>\n",
       "      <th>region_name_y</th>\n",
       "    </tr>\n",
       "  </thead>\n",
       "  <tbody>\n",
       "    <tr>\n",
       "      <th>0</th>\n",
       "      <td>2</td>\n",
       "      <td>1</td>\n",
       "      <td>100.9</td>\n",
       "      <td>Республика Адыгея</td>\n",
       "      <td>Республика Адыгея</td>\n",
       "    </tr>\n",
       "    <tr>\n",
       "      <th>1</th>\n",
       "      <td>3</td>\n",
       "      <td>1</td>\n",
       "      <td>36.1</td>\n",
       "      <td>Республика Адыгея</td>\n",
       "      <td>Республика Адыгея</td>\n",
       "    </tr>\n",
       "    <tr>\n",
       "      <th>2</th>\n",
       "      <td>3</td>\n",
       "      <td>2</td>\n",
       "      <td>85.0</td>\n",
       "      <td>Республика Адыгея</td>\n",
       "      <td>Республика Адыгея</td>\n",
       "    </tr>\n",
       "    <tr>\n",
       "      <th>3</th>\n",
       "      <td>4</td>\n",
       "      <td>3</td>\n",
       "      <td>44.4</td>\n",
       "      <td>Республика Адыгея</td>\n",
       "      <td>Республика Адыгея</td>\n",
       "    </tr>\n",
       "    <tr>\n",
       "      <th>4</th>\n",
       "      <td>4</td>\n",
       "      <td>1</td>\n",
       "      <td>59.9</td>\n",
       "      <td>Республика Адыгея</td>\n",
       "      <td>Республика Адыгея</td>\n",
       "    </tr>\n",
       "  </tbody>\n",
       "</table>\n",
       "</div>"
      ],
      "text/plain": [
       "   territory_id_x  territory_id_y  distance      region_name_x  \\\n",
       "0               2               1     100.9  Республика Адыгея   \n",
       "1               3               1      36.1  Республика Адыгея   \n",
       "2               3               2      85.0  Республика Адыгея   \n",
       "3               4               3      44.4  Республика Адыгея   \n",
       "4               4               1      59.9  Республика Адыгея   \n",
       "\n",
       "       region_name_y  \n",
       "0  Республика Адыгея  \n",
       "1  Республика Адыгея  \n",
       "2  Республика Адыгея  \n",
       "3  Республика Адыгея  \n",
       "4  Республика Адыгея  "
      ]
     },
     "execution_count": 66,
     "metadata": {},
     "output_type": "execute_result"
    }
   ],
   "source": [
    "# Добавим названия регионов что бы не грузить БД\n",
    "cols = ['territory_id', 'region_name']\n",
    "\n",
    "connection = connection \\\n",
    "    .merge(district_name[cols], how='left', left_on='territory_id_x', right_on='territory_id') \\\n",
    "    .rename(columns={'region_name': 'region_name_x'}) \\\n",
    "    .drop(columns=['territory_id'])\n",
    "\n",
    "connection = connection \\\n",
    "    .merge(district_name[cols], how='left', left_on='territory_id_y', right_on='territory_id') \\\n",
    "    .rename(columns={'region_name': 'region_name_y'}) \\\n",
    "    .drop(columns=['territory_id'])\n",
    "\n",
    "connection.head()"
   ]
  },
  {
   "cell_type": "code",
   "execution_count": 67,
   "id": "b4ef9a19",
   "metadata": {},
   "outputs": [],
   "source": [
    "# Выделим дороги только между регионами и посчитаем их количество. Также для полноты данных соединим таблиц с собой же но изменив начальную и конечную точки\n",
    "region_connection = (connection[connection['region_name_x'] != connection['region_name_y']]\n",
    "                     .pivot_table(index=['region_name_x', 'region_name_y'], values='distance', aggfunc='count')\n",
    "                     .reset_index().\n",
    "                     rename(columns={'distance': 'count'}))\n",
    "\n",
    "cross_region_connection = region_connection.rename(columns={'region_name_x': 'region_name_y', 'region_name_y': 'region_name_x'})\n",
    "\n",
    "full_region_connection = pd.concat([region_connection, cross_region_connection]).reset_index(drop=True)"
   ]
  },
  {
   "cell_type": "code",
   "execution_count": 68,
   "id": "2efad4cf",
   "metadata": {},
   "outputs": [
    {
     "data": {
      "application/vnd.microsoft.datawrangler.viewer.v0+json": {
       "columns": [
        {
         "name": "index",
         "rawType": "int64",
         "type": "integer"
        },
        {
         "name": "region_name_x",
         "rawType": "object",
         "type": "string"
        },
        {
         "name": "region_name_y",
         "rawType": "object",
         "type": "string"
        },
        {
         "name": "count",
         "rawType": "int64",
         "type": "integer"
        }
       ],
       "ref": "c93e0054-b8d8-4b40-9b03-1d193682e9c2",
       "rows": [
        [
         "0",
         "Алтайский край",
         "Кабардино-Балкарская Республика",
         "949"
        ],
        [
         "1",
         "Алтайский край",
         "Карачаево-Черкесская Республика",
         "876"
        ],
        [
         "2",
         "Алтайский край",
         "Республика Адыгея",
         "657"
        ],
        [
         "3",
         "Алтайский край",
         "Республика Алтай",
         "803"
        ],
        [
         "4",
         "Алтайский край",
         "Республика Башкортостан",
         "4599"
        ]
       ],
       "shape": {
        "columns": 3,
        "rows": 5
       }
      },
      "text/html": [
       "<div>\n",
       "<style scoped>\n",
       "    .dataframe tbody tr th:only-of-type {\n",
       "        vertical-align: middle;\n",
       "    }\n",
       "\n",
       "    .dataframe tbody tr th {\n",
       "        vertical-align: top;\n",
       "    }\n",
       "\n",
       "    .dataframe thead th {\n",
       "        text-align: right;\n",
       "    }\n",
       "</style>\n",
       "<table border=\"1\" class=\"dataframe\">\n",
       "  <thead>\n",
       "    <tr style=\"text-align: right;\">\n",
       "      <th></th>\n",
       "      <th>region_name_x</th>\n",
       "      <th>region_name_y</th>\n",
       "      <th>count</th>\n",
       "    </tr>\n",
       "  </thead>\n",
       "  <tbody>\n",
       "    <tr>\n",
       "      <th>0</th>\n",
       "      <td>Алтайский край</td>\n",
       "      <td>Кабардино-Балкарская Республика</td>\n",
       "      <td>949</td>\n",
       "    </tr>\n",
       "    <tr>\n",
       "      <th>1</th>\n",
       "      <td>Алтайский край</td>\n",
       "      <td>Карачаево-Черкесская Республика</td>\n",
       "      <td>876</td>\n",
       "    </tr>\n",
       "    <tr>\n",
       "      <th>2</th>\n",
       "      <td>Алтайский край</td>\n",
       "      <td>Республика Адыгея</td>\n",
       "      <td>657</td>\n",
       "    </tr>\n",
       "    <tr>\n",
       "      <th>3</th>\n",
       "      <td>Алтайский край</td>\n",
       "      <td>Республика Алтай</td>\n",
       "      <td>803</td>\n",
       "    </tr>\n",
       "    <tr>\n",
       "      <th>4</th>\n",
       "      <td>Алтайский край</td>\n",
       "      <td>Республика Башкортостан</td>\n",
       "      <td>4599</td>\n",
       "    </tr>\n",
       "  </tbody>\n",
       "</table>\n",
       "</div>"
      ],
      "text/plain": [
       "    region_name_x                    region_name_y  count\n",
       "0  Алтайский край  Кабардино-Балкарская Республика    949\n",
       "1  Алтайский край  Карачаево-Черкесская Республика    876\n",
       "2  Алтайский край                Республика Адыгея    657\n",
       "3  Алтайский край                 Республика Алтай    803\n",
       "4  Алтайский край          Республика Башкортостан   4599"
      ]
     },
     "execution_count": 68,
     "metadata": {},
     "output_type": "execute_result"
    }
   ],
   "source": [
    "full_region_connection.head()"
   ]
  },
  {
   "cell_type": "code",
   "execution_count": 69,
   "id": "a4750c38",
   "metadata": {},
   "outputs": [],
   "source": [
    "full_region_connection.to_csv('data/to_db/full_region_connection.csv')"
   ]
  },
  {
   "cell_type": "markdown",
   "id": "4e6501b6",
   "metadata": {},
   "source": [
    "#### Уровень безработицы\n"
   ]
  },
  {
   "cell_type": "code",
   "execution_count": 60,
   "id": "80b309fc",
   "metadata": {},
   "outputs": [
    {
     "data": {
      "application/vnd.microsoft.datawrangler.viewer.v0+json": {
       "columns": [
        {
         "name": "index",
         "rawType": "int64",
         "type": "integer"
        },
        {
         "name": "region_name",
         "rawType": "object",
         "type": "string"
        },
        {
         "name": "year",
         "rawType": "int64",
         "type": "integer"
        },
        {
         "name": "value",
         "rawType": "float64",
         "type": "float"
        }
       ],
       "ref": "d0fde0c6-2955-4395-849c-ac95d2474846",
       "rows": [
        [
         "0",
         "Белгородская область",
         "2022",
         "3.7"
        ],
        [
         "1",
         "Белгородская область",
         "2023",
         "3.6"
        ],
        [
         "2",
         "Белгородская область",
         "2024",
         "2.9"
        ],
        [
         "3",
         "Брянская область",
         "2022",
         "3.2"
        ],
        [
         "4",
         "Брянская область",
         "2023",
         "2.6"
        ]
       ],
       "shape": {
        "columns": 3,
        "rows": 5
       }
      },
      "text/html": [
       "<div>\n",
       "<style scoped>\n",
       "    .dataframe tbody tr th:only-of-type {\n",
       "        vertical-align: middle;\n",
       "    }\n",
       "\n",
       "    .dataframe tbody tr th {\n",
       "        vertical-align: top;\n",
       "    }\n",
       "\n",
       "    .dataframe thead th {\n",
       "        text-align: right;\n",
       "    }\n",
       "</style>\n",
       "<table border=\"1\" class=\"dataframe\">\n",
       "  <thead>\n",
       "    <tr style=\"text-align: right;\">\n",
       "      <th></th>\n",
       "      <th>region_name</th>\n",
       "      <th>year</th>\n",
       "      <th>value</th>\n",
       "    </tr>\n",
       "  </thead>\n",
       "  <tbody>\n",
       "    <tr>\n",
       "      <th>0</th>\n",
       "      <td>Белгородская область</td>\n",
       "      <td>2022</td>\n",
       "      <td>3.7</td>\n",
       "    </tr>\n",
       "    <tr>\n",
       "      <th>1</th>\n",
       "      <td>Белгородская область</td>\n",
       "      <td>2023</td>\n",
       "      <td>3.6</td>\n",
       "    </tr>\n",
       "    <tr>\n",
       "      <th>2</th>\n",
       "      <td>Белгородская область</td>\n",
       "      <td>2024</td>\n",
       "      <td>2.9</td>\n",
       "    </tr>\n",
       "    <tr>\n",
       "      <th>3</th>\n",
       "      <td>Брянская область</td>\n",
       "      <td>2022</td>\n",
       "      <td>3.2</td>\n",
       "    </tr>\n",
       "    <tr>\n",
       "      <th>4</th>\n",
       "      <td>Брянская область</td>\n",
       "      <td>2023</td>\n",
       "      <td>2.6</td>\n",
       "    </tr>\n",
       "  </tbody>\n",
       "</table>\n",
       "</div>"
      ],
      "text/plain": [
       "            region_name  year  value\n",
       "0  Белгородская область  2022    3.7\n",
       "1  Белгородская область  2023    3.6\n",
       "2  Белгородская область  2024    2.9\n",
       "3      Брянская область  2022    3.2\n",
       "4      Брянская область  2023    2.6"
      ]
     },
     "execution_count": 60,
     "metadata": {},
     "output_type": "execute_result"
    }
   ],
   "source": [
    "# region_jobless.xls\n",
    "region_jobless = pd.read_excel('data/clear/region_jobless.xls')\n",
    "region_jobless.head()"
   ]
  },
  {
   "cell_type": "code",
   "execution_count": 61,
   "id": "7542d540",
   "metadata": {},
   "outputs": [],
   "source": [
    "# Привели год к правильному типу\n",
    "region_jobless['year'] = pd.to_datetime(region_jobless['year'], format='%Y')"
   ]
  },
  {
   "cell_type": "code",
   "execution_count": 62,
   "id": "951e01ff",
   "metadata": {},
   "outputs": [],
   "source": [
    "# Заменили названия региона на id региона\n",
    "region_jobless = (region_jobless\n",
    "                  .merge(region_list[['region_id', 'region_name']], how='left', on='region_name')\n",
    "                  [['region_id', 'year', 'value']])\n",
    "\n",
    "# Очистили категории без данных\n",
    "region_jobless.dropna(inplace=True)\n",
    "# Привили тип к целочисленному\n",
    "region_jobless['region_id'] = region_jobless['region_id'].astype(int)"
   ]
  },
  {
   "cell_type": "code",
   "execution_count": 63,
   "id": "a74dc1dd",
   "metadata": {},
   "outputs": [],
   "source": [
    "region_jobless.to_csv('data/to_db/region_jobless.csv')"
   ]
  }
 ],
 "metadata": {
  "kernelspec": {
   "display_name": ".venv",
   "language": "python",
   "name": "python3"
  },
  "language_info": {
   "codemirror_mode": {
    "name": "ipython",
    "version": 3
   },
   "file_extension": ".py",
   "mimetype": "text/x-python",
   "name": "python",
   "nbconvert_exporter": "python",
   "pygments_lexer": "ipython3",
   "version": "3.10.0rc2"
  }
 },
 "nbformat": 4,
 "nbformat_minor": 5
}
